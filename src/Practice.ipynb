{
 "cells": [
  {
   "cell_type": "markdown",
   "metadata": {},
   "source": [
    "# Data loading and exploratory analysis"
   ]
  },
  {
   "cell_type": "markdown",
   "metadata": {},
   "source": [
    "## Data loading and import modules"
   ]
  },
  {
   "cell_type": "code",
   "execution_count": 109,
   "metadata": {
    "collapsed": false
   },
   "outputs": [],
   "source": [
    "import pandas as pd\n",
    "import numpy as np\n",
    "import pandas_profiling\n",
    "\n",
    "from data_utils.load import beautiful_head, get_data, get_score\n",
    "from sklearn.preprocessing import LabelEncoder, OneHotEncoder\n",
    "from sklearn.ensemble import RandomForestRegressor\n",
    "from sklearn.cross_validation import KFold"
   ]
  },
  {
   "cell_type": "code",
   "execution_count": 110,
   "metadata": {
    "collapsed": false
   },
   "outputs": [],
   "source": [
    "train, test = get_data()\n",
    "#test = pd.read_csv('../data/test.csv', sep=';')"
   ]
  },
  {
   "cell_type": "code",
   "execution_count": null,
   "metadata": {
    "collapsed": false
   },
   "outputs": [],
   "source": []
  },
  {
   "cell_type": "code",
   "execution_count": null,
   "metadata": {
    "collapsed": false
   },
   "outputs": [],
   "source": []
  },
  {
   "cell_type": "code",
   "execution_count": 111,
   "metadata": {
    "collapsed": false
   },
   "outputs": [
    {
     "name": "stdout",
     "output_type": "stream",
     "text": [
      "True\n",
      "True\n"
     ]
    }
   ],
   "source": [
    "# check null value existance\n",
    "print train.isnull().sum().any()\n",
    "print test.isnull().sum().any()"
   ]
  },
  {
   "cell_type": "code",
   "execution_count": 112,
   "metadata": {
    "collapsed": false
   },
   "outputs": [],
   "source": [
    "# replace NaN values with zero\n",
    "train.fillna(value=0, inplace=True)\n",
    "test.fillna(value=0, inplace=True)"
   ]
  },
  {
   "cell_type": "code",
   "execution_count": 113,
   "metadata": {
    "collapsed": false
   },
   "outputs": [
    {
     "name": "stdout",
     "output_type": "stream",
     "text": [
      "False\n",
      "False\n"
     ]
    }
   ],
   "source": [
    "# check one more time null value existance\n",
    "print train.isnull().sum().any()\n",
    "print test.isnull().sum().any()"
   ]
  },
  {
   "cell_type": "markdown",
   "metadata": {},
   "source": [
    "## Labels encoding"
   ]
  },
  {
   "cell_type": "code",
   "execution_count": null,
   "metadata": {
    "collapsed": false,
    "scrolled": true
   },
   "outputs": [],
   "source": []
  },
  {
   "cell_type": "code",
   "execution_count": null,
   "metadata": {
    "collapsed": false
   },
   "outputs": [],
   "source": []
  },
  {
   "cell_type": "code",
   "execution_count": 114,
   "metadata": {
    "collapsed": false
   },
   "outputs": [],
   "source": [
    "def onehotencoding(data, features='all'):\n",
    "    #функция для перевода всех категориальных данных в числа с помощью кодировки\n",
    "    #import necessary modules\n",
    "    from sklearn.preprocessing import LabelEncoder, OneHotEncoder\n",
    "    import numpy as np\n",
    "    import pandas as pd\n",
    "    \n",
    "    #write only categorical names to variable cat_columns\n",
    "    #записать названия столбцов, в которых хранятся категориальные переменные\n",
    "    #из всех фич выбрать только категориальные\n",
    "    # <YOUR CODE>\n",
    "    cat_columns = list(data[features].select_dtypes(include=['category','object']))\n",
    "    \n",
    "    \n",
    "    # encode all features using LabelEncoder\n",
    "    encoded = []\n",
    "    \n",
    "    for i in cat_columns:\n",
    "        enc = LabelEncoder()\n",
    "        enc.fit(data[i])\n",
    "        encoded.append(enc.transform(data[i]))\n",
    "\n",
    "\n",
    "    #run OHE\n",
    "\n",
    "    for i in range(len(cat_columns)):\n",
    "        enc = OneHotEncoder(sparse=False)\n",
    "        enc.fit(encoded[i].reshape(-1, 1))\n",
    "        encoded[i] = enc.transform(encoded[i].reshape(-1, 1))\n",
    "\n",
    "\n",
    "        \n",
    "    # create a list of columns to help create a DF from np array \n",
    "    # <YOUR CODE>\n",
    "    \n",
    "    \n",
    "    \n",
    "    \n",
    "    \n",
    "    # create new dataframe\n",
    "    # <YOUR CODE>\n",
    "    new_data = pd.DataFrame(pd.get_dummies(data[cat_columns],columns=data[cat_columns].columns,sparse=False))\n",
    "\n",
    "\n",
    "    \n",
    "    \n",
    "    return new_data"
   ]
  },
  {
   "cell_type": "code",
   "execution_count": 115,
   "metadata": {
    "collapsed": false
   },
   "outputs": [],
   "source": [
    "# prepare data for label encoding\n",
    "\n",
    "# first save target in a separate variable and drop index, id, codepostal\n",
    "# <YOUR CODE>\n",
    "target_train = train['prime_tot_ttc']\n",
    "train.drop(['id','codepostal','prime_tot_ttc'], axis = 1, inplace=True)\n",
    "\n",
    "# stack train and test sets for label encoding\n",
    "# <YOUR CODE>\n",
    "\n",
    "#find categorical variables for encoding\n",
    "# <YOUR CODE>\n",
    "cat_columns = list(train.select_dtypes(include=['category','object']))"
   ]
  },
  {
   "cell_type": "code",
   "execution_count": null,
   "metadata": {
    "collapsed": false
   },
   "outputs": [],
   "source": []
  },
  {
   "cell_type": "code",
   "execution_count": 129,
   "metadata": {
    "collapsed": false
   },
   "outputs": [],
   "source": [
    "# apply ohe function\n",
    "new_train = onehotencoding(train, cat_columns)\n",
    "\n",
    "result_train = pd.concat([train, new_train], axis=1)"
   ]
  },
  {
   "cell_type": "code",
   "execution_count": 130,
   "metadata": {
    "collapsed": false
   },
   "outputs": [
    {
     "name": "stdout",
     "output_type": "stream",
     "text": [
      "        annee_naissance  annee_permis      marque  puis_fiscale  anc_veh  \\\n",
      "299465           1985.0        2005.0      NISSAN             9        0   \n",
      "81922            1988.0        2007.0        FIAT             6       27   \n",
      "143673           1984.0        2003.0     CITROEN             6        1   \n",
      "208449           1977.0        1997.0     PEUGEOT             7        2   \n",
      "293179           1980.0        1999.0  VOLKSWAGEN             5        0   \n",
      "105712           1988.0        2008.0        FORD            10       34   \n",
      "14856            1993.0        2013.0     RENAULT             5       99   \n",
      "150757           1981.0        2000.0     PEUGEOT             6       13   \n",
      "130391           1992.0        2011.0  VOLKSWAGEN             6        2   \n",
      "191619           1990.0        2009.0      NISSAN             7       10   \n",
      "106006           1986.0        2006.0     RENAULT             8       41   \n",
      "237543           1987.0        2006.0     RENAULT             7        2   \n",
      "255093           1987.0        2006.0     RENAULT             4        2   \n",
      "207743           1970.0        1989.0  VOLKSWAGEN             5        2   \n",
      "99146            1991.0        2010.0     SANTANA             6        1   \n",
      "250948           1986.0        2005.0        OPEL             4        3   \n",
      "136332           1986.0        2005.0     RENAULT             8       34   \n",
      "244416           1987.0        2006.0      SUZUKI             6       37   \n",
      "271059           1988.0        2007.0     CITROEN             7       16   \n",
      "124308           1981.0        2001.0      TOYOTA             7       41   \n",
      "59084            1990.0        2009.0     RENAULT             6        2   \n",
      "3201             1983.0        2002.0     RENAULT             6       42   \n",
      "135984           1986.0        2005.0       HONDA             9        2   \n",
      "95917            1982.0        2001.0    MERCEDES            12        2   \n",
      "240585           1993.0        2012.0     PEUGEOT             5        1   \n",
      "50830            1977.0        1996.0     RENAULT             7        2   \n",
      "32932            1991.0        2010.0     CITROEN             6       38   \n",
      "280874           1990.0        2009.0     RENAULT             8       40   \n",
      "220645           1985.0        2004.0     PEUGEOT             9        0   \n",
      "228430           1985.0        2004.0        AUDI             7        2   \n",
      "...                 ...           ...         ...           ...      ...   \n",
      "123855           1981.0        2001.0      TOYOTA             6       36   \n",
      "2747             1986.0        2005.0     CITROEN             7        0   \n",
      "130523           1987.0        2006.0     RENAULT             7       40   \n",
      "149503           1991.0        2010.0     CITROEN             7        0   \n",
      "156730           1977.0        1996.0     RENAULT             6        0   \n",
      "258795           1989.0        2009.0     CITROEN             5        4   \n",
      "184779           1988.0        2008.0        OPEL             7       19   \n",
      "214176           1986.0        2005.0  VOLKSWAGEN            11        0   \n",
      "235796           1977.0        1997.0     CITROEN             6       40   \n",
      "103355           1977.0        1997.0        FORD             6       34   \n",
      "267455           1979.0        1998.0   CHEVROLET             9        0   \n",
      "199041           1981.0        2000.0  VOLKSWAGEN             8        1   \n",
      "252709           1983.0        2002.0     PEUGEOT             6       99   \n",
      "194027           1992.0        2011.0         BMW             6        2   \n",
      "262913           1978.0        1997.0       VOLVO            14        4   \n",
      "64820            1991.0        2010.0     RENAULT             5       17   \n",
      "41090            1978.0        1997.0     RENAULT             5        2   \n",
      "278167           1988.0        2008.0     RENAULT             7       99   \n",
      "191335           1978.0        1997.0      SUZUKI             8       13   \n",
      "175203           1990.0        2009.0     RENAULT             6        0   \n",
      "87498            1978.0        1997.0        OPEL             5       99   \n",
      "137337           1988.0        2007.0     RENAULT             6        0   \n",
      "54886            1984.0        2004.0     CITROEN             7        3   \n",
      "207892           1988.0        2007.0     RENAULT             7        0   \n",
      "110268           1988.0        2008.0     CITROEN             3        1   \n",
      "119879           1991.0        2011.0     PEUGEOT             7       19   \n",
      "259178           1991.0        2011.0     RENAULT             6       34   \n",
      "131932           1976.0        1996.0    MERCEDES            10        2   \n",
      "146867           1984.0        2003.0     RENAULT             8        0   \n",
      "121958           1974.0        1994.0  VOLKSWAGEN            11        1   \n",
      "\n",
      "       energie_veh  kmage_annuel  crm  \\\n",
      "299465      gazole         11403   63   \n",
      "81922       gazole          6811   50   \n",
      "143673      gazole          7113   95   \n",
      "208449      gazole          2949   85   \n",
      "293179      gazole          6767  100   \n",
      "105712      gazole         11905  100   \n",
      "14856       gazole         11676   50   \n",
      "150757      gazole          7200   95   \n",
      "130391     essence          6324   50   \n",
      "191619      gazole          7224   76   \n",
      "106006     essence          6928   50   \n",
      "237543     essence          6212   90   \n",
      "255093     essence          2720   90   \n",
      "207743      gazole          7065   50   \n",
      "99146      essence          3016   58   \n",
      "250948      gazole          6723   56   \n",
      "136332      gazole          7321   50   \n",
      "244416     essence          6511   50   \n",
      "271059      gazole         11868   52   \n",
      "124308      gazole          7483  109   \n",
      "59084       gazole          7321   50   \n",
      "3201        gazole          7211   83   \n",
      "135984     essence          6244   50   \n",
      "95917      essence          7197   57   \n",
      "240585      gazole          7099   95   \n",
      "50830       gazole         11905   50   \n",
      "32932       gazole          6400  100   \n",
      "280874      gazole         11849   50   \n",
      "220645     essence          7183   56   \n",
      "228430     essence         17000  100   \n",
      "...            ...           ...  ...   \n",
      "123855     essence          6678   50   \n",
      "2747       essence          6808   81   \n",
      "130523      gazole          7443   66   \n",
      "149503      gazole          3074   50   \n",
      "156730      gazole          6890   50   \n",
      "258795         gpl          7093   50   \n",
      "184779     essence          7161   90   \n",
      "214176     essence          7469   50   \n",
      "235796      gazole          7076   62   \n",
      "103355      gazole          7321  100   \n",
      "267455         gpl          7227   67   \n",
      "199041      gazole         11657   95   \n",
      "252709     essence          6526  100   \n",
      "194027      gazole          7113   85   \n",
      "262913     essence         11533   50   \n",
      "64820       gazole          6797  106   \n",
      "41090       gazole          7321   64   \n",
      "278167     essence          7183   80   \n",
      "191335      gazole         11599  100   \n",
      "175203      gazole          7509   72   \n",
      "87498       gazole          7260   50   \n",
      "137337      gazole          6526   58   \n",
      "54886       gazole          2906   76   \n",
      "207892      gazole         11591   66   \n",
      "110268     essence          2355   50   \n",
      "119879      gazole          6572   62   \n",
      "259178     essence          6324   60   \n",
      "131932      gazole         13213   50   \n",
      "146867      gazole         11580   56   \n",
      "121958      gazole         14657   72   \n",
      "\n",
      "                                               profession  var1    ...     \\\n",
      "299465  profession de l'information des arts et des sp...  11.0    ...      \n",
      "81922                    enseignant, formateur, chercheur   9.0    ...      \n",
      "143673                   enseignant, formateur, chercheur  13.0    ...      \n",
      "208449                   enseignant, formateur, chercheur  19.0    ...      \n",
      "293179                                     agent, employe  17.0    ...      \n",
      "105712                                         commercant   8.0    ...      \n",
      "14856                             homme ou femme au foyer   3.0    ...      \n",
      "150757                     educateur, animateur, moniteur  16.0    ...      \n",
      "130391                   enseignant, formateur, chercheur   5.0    ...      \n",
      "191619                                     agent, employe   7.0    ...      \n",
      "106006                                         technicien  10.0    ...      \n",
      "237543                   enseignant, formateur, chercheur  10.0    ...      \n",
      "255093                   enseignant, formateur, chercheur  10.0    ...      \n",
      "207743                   enseignant, formateur, chercheur  27.0    ...      \n",
      "99146                    enseignant, formateur, chercheur   6.0    ...      \n",
      "250948                   enseignant, formateur, chercheur  11.0    ...      \n",
      "136332                                         commercant  11.0    ...      \n",
      "244416                                     agent, employe  10.0    ...      \n",
      "271059                   enseignant, formateur, chercheur   9.0    ...      \n",
      "124308                                     agent, employe  15.0    ...      \n",
      "59084                    enseignant, formateur, chercheur   7.0    ...      \n",
      "3201                                       agent, employe  14.0    ...      \n",
      "135984                   enseignant, formateur, chercheur  11.0    ...      \n",
      "95917                    enseignant, formateur, chercheur  15.0    ...      \n",
      "240585                   enseignant, formateur, chercheur   4.0    ...      \n",
      "50830                    enseignant, formateur, chercheur  20.0    ...      \n",
      "32932                                      agent, employe   6.0    ...      \n",
      "280874                                profession liberale   7.0    ...      \n",
      "220645                                     agent, employe  12.0    ...      \n",
      "228430                   enseignant, formateur, chercheur  12.0    ...      \n",
      "...                                                   ...   ...    ...      \n",
      "123855                                profession liberale  15.0    ...      \n",
      "2747                                       agent, employe  11.0    ...      \n",
      "130523                                profession liberale  10.0    ...      \n",
      "149503                                     agent, employe   6.0    ...      \n",
      "156730                                     agent, employe  20.0    ...      \n",
      "258795                                     agent, employe   7.0    ...      \n",
      "184779                                         technicien   8.0    ...      \n",
      "214176                                   cadre, ingenieur  11.0    ...      \n",
      "235796                                     agent, employe  19.0    ...      \n",
      "103355                                     agent, employe  19.0    ...      \n",
      "267455                                         technicien  18.0    ...      \n",
      "199041                   enseignant, formateur, chercheur  16.0    ...      \n",
      "252709                            homme ou femme au foyer  14.0    ...      \n",
      "194027                   enseignant, formateur, chercheur   5.0    ...      \n",
      "262913                   enseignant, formateur, chercheur  19.0    ...      \n",
      "64820                                      agent, employe   6.0    ...      \n",
      "41090                    enseignant, formateur, chercheur  19.0    ...      \n",
      "278167                            homme ou femme au foyer   8.0    ...      \n",
      "191335                                     agent, employe  19.0    ...      \n",
      "175203                                            ouvrier   7.0    ...      \n",
      "87498                                  demandeur d'emploi  19.0    ...      \n",
      "137337                                     agent, employe   9.0    ...      \n",
      "54886                    enseignant, formateur, chercheur  12.0    ...      \n",
      "207892                                     agent, employe   9.0    ...      \n",
      "110268                   enseignant, formateur, chercheur   8.0    ...      \n",
      "119879                                         technicien   5.0    ...      \n",
      "259178                                         technicien   5.0    ...      \n",
      "131932                   enseignant, formateur, chercheur  20.0    ...      \n",
      "146867                                     agent, employe  13.0    ...      \n",
      "121958                   enseignant, formateur, chercheur  22.0    ...      \n",
      "\n",
      "        var14_F  var14_G  var14_N  var16_0 var16_1 var16_2 var16_3  var16_4  \\\n",
      "299465      0.0      0.0      1.0      0.0     0.0     0.0     0.0      1.0   \n",
      "81922       0.0      0.0      0.0      0.0     0.0     0.0     1.0      0.0   \n",
      "143673      1.0      0.0      0.0      0.0     1.0     0.0     0.0      0.0   \n",
      "208449      0.0      0.0      0.0      0.0     1.0     0.0     0.0      0.0   \n",
      "293179      0.0      1.0      0.0      0.0     1.0     0.0     0.0      0.0   \n",
      "105712      0.0      0.0      0.0      0.0     0.0     0.0     0.0      1.0   \n",
      "14856       0.0      0.0      0.0      0.0     0.0     0.0     0.0      0.0   \n",
      "150757      1.0      0.0      0.0      0.0     0.0     0.0     1.0      0.0   \n",
      "130391      0.0      0.0      0.0      0.0     1.0     0.0     0.0      0.0   \n",
      "191619      0.0      0.0      0.0      0.0     1.0     0.0     0.0      0.0   \n",
      "106006      1.0      0.0      0.0      0.0     0.0     0.0     0.0      1.0   \n",
      "237543      0.0      1.0      0.0      0.0     1.0     0.0     0.0      0.0   \n",
      "255093      0.0      0.0      0.0      0.0     1.0     0.0     0.0      0.0   \n",
      "207743      0.0      0.0      0.0      0.0     1.0     0.0     0.0      0.0   \n",
      "99146       0.0      0.0      0.0      0.0     1.0     0.0     0.0      0.0   \n",
      "250948      0.0      0.0      0.0      0.0     1.0     0.0     0.0      0.0   \n",
      "136332      0.0      0.0      0.0      0.0     0.0     0.0     0.0      1.0   \n",
      "244416      1.0      0.0      0.0      0.0     0.0     0.0     0.0      1.0   \n",
      "271059      0.0      1.0      0.0      0.0     1.0     0.0     0.0      0.0   \n",
      "124308      0.0      0.0      0.0      0.0     0.0     0.0     0.0      1.0   \n",
      "59084       0.0      0.0      0.0      0.0     1.0     0.0     0.0      0.0   \n",
      "3201        0.0      0.0      0.0      0.0     0.0     0.0     0.0      1.0   \n",
      "135984      0.0      0.0      0.0      0.0     1.0     0.0     0.0      0.0   \n",
      "95917       0.0      0.0      0.0      0.0     1.0     0.0     0.0      0.0   \n",
      "240585      0.0      1.0      0.0      0.0     1.0     0.0     0.0      0.0   \n",
      "50830       1.0      0.0      0.0      0.0     1.0     0.0     0.0      0.0   \n",
      "32932       0.0      0.0      0.0      0.0     0.0     0.0     0.0      1.0   \n",
      "280874      0.0      1.0      0.0      0.0     0.0     0.0     0.0      1.0   \n",
      "220645      0.0      1.0      0.0      0.0     0.0     0.0     0.0      1.0   \n",
      "228430      0.0      0.0      0.0      0.0     1.0     0.0     0.0      0.0   \n",
      "...         ...      ...      ...      ...     ...     ...     ...      ...   \n",
      "123855      0.0      0.0      0.0      0.0     0.0     0.0     0.0      1.0   \n",
      "2747        0.0      0.0      0.0      1.0     0.0     0.0     0.0      0.0   \n",
      "130523      1.0      0.0      0.0      0.0     0.0     0.0     0.0      1.0   \n",
      "149503      0.0      0.0      0.0      0.0     1.0     0.0     0.0      0.0   \n",
      "156730      0.0      0.0      0.0      0.0     1.0     0.0     0.0      0.0   \n",
      "258795      1.0      0.0      0.0      0.0     1.0     0.0     0.0      0.0   \n",
      "184779      0.0      0.0      0.0      0.0     1.0     0.0     0.0      0.0   \n",
      "214176      0.0      0.0      0.0      0.0     1.0     0.0     0.0      0.0   \n",
      "235796      0.0      1.0      0.0      0.0     0.0     0.0     0.0      1.0   \n",
      "103355      0.0      0.0      0.0      0.0     0.0     0.0     0.0      1.0   \n",
      "267455      0.0      0.0      0.0      0.0     0.0     0.0     1.0      0.0   \n",
      "199041      0.0      0.0      0.0      0.0     1.0     0.0     0.0      0.0   \n",
      "252709      0.0      0.0      0.0      0.0     0.0     0.0     0.0      0.0   \n",
      "194027      0.0      0.0      0.0      0.0     1.0     0.0     0.0      0.0   \n",
      "262913      0.0      0.0      0.0      0.0     1.0     0.0     0.0      0.0   \n",
      "64820       1.0      0.0      0.0      0.0     1.0     0.0     0.0      0.0   \n",
      "41090       0.0      0.0      0.0      0.0     1.0     0.0     0.0      0.0   \n",
      "278167      0.0      1.0      0.0      0.0     0.0     0.0     0.0      0.0   \n",
      "191335      1.0      0.0      0.0      0.0     0.0     0.0     1.0      0.0   \n",
      "175203      0.0      0.0      0.0      0.0     0.0     0.0     0.0      1.0   \n",
      "87498       0.0      0.0      0.0      0.0     0.0     0.0     0.0      0.0   \n",
      "137337      1.0      0.0      0.0      0.0     1.0     0.0     0.0      0.0   \n",
      "54886       0.0      0.0      0.0      0.0     1.0     0.0     0.0      0.0   \n",
      "207892      0.0      0.0      0.0      0.0     0.0     0.0     1.0      0.0   \n",
      "110268      0.0      0.0      0.0      0.0     1.0     0.0     0.0      0.0   \n",
      "119879      0.0      0.0      0.0      0.0     1.0     0.0     0.0      0.0   \n",
      "259178      0.0      0.0      0.0      0.0     0.0     0.0     0.0      1.0   \n",
      "131932      0.0      0.0      0.0      0.0     1.0     0.0     0.0      0.0   \n",
      "146867      0.0      0.0      0.0      0.0     0.0     0.0     0.0      1.0   \n",
      "121958      0.0      0.0      0.0      0.0     1.0     0.0     0.0      0.0   \n",
      "\n",
      "        var16_5  var16_NR  \n",
      "299465      0.0       0.0  \n",
      "81922       0.0       0.0  \n",
      "143673      0.0       0.0  \n",
      "208449      0.0       0.0  \n",
      "293179      0.0       0.0  \n",
      "105712      0.0       0.0  \n",
      "14856       1.0       0.0  \n",
      "150757      0.0       0.0  \n",
      "130391      0.0       0.0  \n",
      "191619      0.0       0.0  \n",
      "106006      0.0       0.0  \n",
      "237543      0.0       0.0  \n",
      "255093      0.0       0.0  \n",
      "207743      0.0       0.0  \n",
      "99146       0.0       0.0  \n",
      "250948      0.0       0.0  \n",
      "136332      0.0       0.0  \n",
      "244416      0.0       0.0  \n",
      "271059      0.0       0.0  \n",
      "124308      0.0       0.0  \n",
      "59084       0.0       0.0  \n",
      "3201        0.0       0.0  \n",
      "135984      0.0       0.0  \n",
      "95917       0.0       0.0  \n",
      "240585      0.0       0.0  \n",
      "50830       0.0       0.0  \n",
      "32932       0.0       0.0  \n",
      "280874      0.0       0.0  \n",
      "220645      0.0       0.0  \n",
      "228430      0.0       0.0  \n",
      "...         ...       ...  \n",
      "123855      0.0       0.0  \n",
      "2747        0.0       0.0  \n",
      "130523      0.0       0.0  \n",
      "149503      0.0       0.0  \n",
      "156730      0.0       0.0  \n",
      "258795      0.0       0.0  \n",
      "184779      0.0       0.0  \n",
      "214176      0.0       0.0  \n",
      "235796      0.0       0.0  \n",
      "103355      0.0       0.0  \n",
      "267455      0.0       0.0  \n",
      "199041      0.0       0.0  \n",
      "252709      1.0       0.0  \n",
      "194027      0.0       0.0  \n",
      "262913      0.0       0.0  \n",
      "64820       0.0       0.0  \n",
      "41090       0.0       0.0  \n",
      "278167      1.0       0.0  \n",
      "191335      0.0       0.0  \n",
      "175203      0.0       0.0  \n",
      "87498       1.0       0.0  \n",
      "137337      0.0       0.0  \n",
      "54886       0.0       0.0  \n",
      "207892      0.0       0.0  \n",
      "110268      0.0       0.0  \n",
      "119879      0.0       0.0  \n",
      "259178      0.0       0.0  \n",
      "131932      0.0       0.0  \n",
      "146867      0.0       0.0  \n",
      "121958      0.0       0.0  \n",
      "\n",
      "[270000 rows x 267 columns]\n"
     ]
    }
   ],
   "source": [
    "# devide back new data frame on train and test sets\n",
    "print result_train"
   ]
  },
  {
   "cell_type": "code",
   "execution_count": 118,
   "metadata": {
    "collapsed": true
   },
   "outputs": [],
   "source": [
    "# you should get train set shape is (300000, 266) and test set shape is (30000, 266)"
   ]
  },
  {
   "cell_type": "markdown",
   "metadata": {},
   "source": [
    "## Modeling and CV"
   ]
  },
  {
   "cell_type": "code",
   "execution_count": 119,
   "metadata": {
    "collapsed": true
   },
   "outputs": [],
   "source": [
    "#initializing kfold for our cross validation"
   ]
  },
  {
   "cell_type": "code",
   "execution_count": 120,
   "metadata": {
    "collapsed": true
   },
   "outputs": [],
   "source": [
    "# metric mape"
   ]
  },
  {
   "cell_type": "code",
   "execution_count": 121,
   "metadata": {
    "collapsed": true
   },
   "outputs": [],
   "source": [
    "# apply cv and train RandomForestRegressor model"
   ]
  },
  {
   "cell_type": "markdown",
   "metadata": {},
   "source": [
    "## Make predictions"
   ]
  },
  {
   "cell_type": "code",
   "execution_count": 122,
   "metadata": {
    "collapsed": true
   },
   "outputs": [],
   "source": [
    "#run randomforest on the whole train set\n",
    "# <YOUR CODE>\n",
    "\n",
    "#make predictions\n",
    "# <YOUR CODE>"
   ]
  },
  {
   "cell_type": "code",
   "execution_count": 123,
   "metadata": {
    "collapsed": true
   },
   "outputs": [],
   "source": [
    "# save predictions"
   ]
  },
  {
   "cell_type": "markdown",
   "metadata": {},
   "source": []
  },
  {
   "cell_type": "code",
   "execution_count": null,
   "metadata": {
    "collapsed": true
   },
   "outputs": [],
   "source": []
  },
  {
   "cell_type": "code",
   "execution_count": null,
   "metadata": {
    "collapsed": true
   },
   "outputs": [],
   "source": []
  },
  {
   "cell_type": "code",
   "execution_count": null,
   "metadata": {
    "collapsed": true
   },
   "outputs": [],
   "source": []
  },
  {
   "cell_type": "code",
   "execution_count": null,
   "metadata": {
    "collapsed": true
   },
   "outputs": [],
   "source": []
  },
  {
   "cell_type": "code",
   "execution_count": null,
   "metadata": {
    "collapsed": true
   },
   "outputs": [],
   "source": []
  },
  {
   "cell_type": "code",
   "execution_count": null,
   "metadata": {
    "collapsed": true
   },
   "outputs": [],
   "source": []
  },
  {
   "cell_type": "markdown",
   "metadata": {},
   "source": [
    "\n"
   ]
  },
  {
   "cell_type": "code",
   "execution_count": null,
   "metadata": {
    "collapsed": true
   },
   "outputs": [],
   "source": []
  }
 ],
 "metadata": {
  "anaconda-cloud": {},
  "kernelspec": {
   "display_name": "Python [python2]",
   "language": "python",
   "name": "Python [python2]"
  },
  "language_info": {
   "codemirror_mode": {
    "name": "ipython",
    "version": 2
   },
   "file_extension": ".py",
   "mimetype": "text/x-python",
   "name": "python",
   "nbconvert_exporter": "python",
   "pygments_lexer": "ipython2",
   "version": "2.7.12"
  }
 },
 "nbformat": 4,
 "nbformat_minor": 0
}
